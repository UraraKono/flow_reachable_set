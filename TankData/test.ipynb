{
 "cells": [
  {
   "cell_type": "code",
   "execution_count": 2,
   "metadata": {},
   "outputs": [],
   "source": [
    "import pandas as pd\n",
    "import matplotlib.pyplot as plt\n",
    "import matplotlib.animation as animation\n",
    "import numpy as np\n",
    "from mpl_toolkits.mplot3d import Axes3D\n",
    "\n",
    "date='11_22_2022_13_13_31'\n",
    "\n",
    "df = pd.read_csv(\"data/data_rigid_bodies_\"+str(date)+\".csv\")\n",
    "\n",
    "drifters = df[\"id_\"].unique()\n",
    "num_drifters = drifters.shape[0]\n",
    "drifter_pos = dict()\n",
    "for i in range(num_drifters):\n",
    "    drifter_pos[drifters[i]] = []\n",
    "time_stamp = df[\"timestamp\"].unique()"
   ]
  },
  {
   "cell_type": "code",
   "execution_count": 3,
   "metadata": {},
   "outputs": [],
   "source": [
    "for i in range(num_drifters):\n",
    "    drifter_df = df.loc[df['id_'] == drifters[i]]\n",
    "    drifter_trajectory = np.array((drifter_df.iloc[:,0],drifter_df.iloc[:,4],drifter_df.iloc[:,2],drifter_df.iloc[:,3] )).T\n",
    "    drifter_pos[drifters[i]].append(drifter_trajectory)\n"
   ]
  },
  {
   "cell_type": "code",
   "execution_count": 10,
   "metadata": {},
   "outputs": [
    {
     "data": {
      "text/plain": [
       "(40882, 4)"
      ]
     },
     "execution_count": 10,
     "metadata": {},
     "output_type": "execute_result"
    }
   ],
   "source": [
    "drifter_pos[drifters[i]][0].shape"
   ]
  },
  {
   "cell_type": "code",
   "execution_count": null,
   "metadata": {},
   "outputs": [],
   "source": []
  }
 ],
 "metadata": {
  "kernelspec": {
   "display_name": "Python 3.9.7 ('base')",
   "language": "python",
   "name": "python3"
  },
  "language_info": {
   "codemirror_mode": {
    "name": "ipython",
    "version": 3
   },
   "file_extension": ".py",
   "mimetype": "text/x-python",
   "name": "python",
   "nbconvert_exporter": "python",
   "pygments_lexer": "ipython3",
   "version": "3.9.7"
  },
  "orig_nbformat": 4,
  "vscode": {
   "interpreter": {
    "hash": "55023409c9533ca96b33862828cc4c711bac7568b413b95d36228a9d99989195"
   }
  }
 },
 "nbformat": 4,
 "nbformat_minor": 2
}
